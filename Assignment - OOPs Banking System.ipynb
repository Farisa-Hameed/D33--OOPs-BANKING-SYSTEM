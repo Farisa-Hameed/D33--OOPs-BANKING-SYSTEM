{
 "cells": [
  {
   "cell_type": "code",
   "execution_count": 2,
   "id": "8e815d6f-334c-44b3-8ea8-7e5647d22774",
   "metadata": {},
   "outputs": [],
   "source": [
    "# Banking System"
   ]
  },
  {
   "cell_type": "markdown",
   "id": "3a38c2c2-4621-4b38-b25b-fb092870a4b4",
   "metadata": {},
   "source": [
    "Write a python program to replicate a Banking system. \n",
    "1. Account Creation\n",
    "2. Account Login\n",
    "3. Account Depositing\n",
    "4. Account Withdrawal\n",
    "5. Account Balance"
   ]
  },
  {
   "cell_type": "code",
   "execution_count": 14,
   "id": "0032eefd-dda7-4670-93d4-1b905035209e",
   "metadata": {},
   "outputs": [],
   "source": [
    "class BankAccount:\n",
    "    def __init__(self, act_no, account_holder, initial_balance=0):\n",
    "        self.act_no = act_no\n",
    "        self.account_holder = account_holder\n",
    "        self.balance = initial_balance\n",
    "\n",
    "    def deposit(self, amount):\n",
    "        if amount > 0:\n",
    "            self.balance += amount\n",
    "            print(f\"Successfully deposited ${amount}. New balance: ${self.balance}.\")\n",
    "        else:\n",
    "            print(\"Invalid Deposit\")\n",
    "\n",
    "    def withdraw(self, amount):\n",
    "        if amount > 0:\n",
    "            if amount <= self.balance:\n",
    "                self.balance -= amount\n",
    "                print(f\"Successfully withdrew ${amount}. New balance: ${self.balance}.\")\n",
    "            else:\n",
    "                print(\"Insufficient Balance.\")\n",
    "        else:\n",
    "            print(\"Invalid withdrawal Amount\")\n",
    "\n",
    "    def check_balance(self):\n",
    "        print(f\"Current balance: ${self.balance}.\")\n"
   ]
  },
  {
   "cell_type": "code",
   "execution_count": 20,
   "id": "a33b7e2a-dcdf-466e-87db-aad3a699c9f1",
   "metadata": {},
   "outputs": [],
   "source": [
    "class BankingSystem:\n",
    "    def __init__(self):\n",
    "        self.accounts = {}\n",
    "\n",
    "    def create_account(self, act_no, account_holder, initial_balance=0):\n",
    "        if act_no in self.accounts:\n",
    "            print(\"Account already exists.\")\n",
    "        else:\n",
    "            self.accounts[act_no] = BankAccount(act_no, account_holder, initial_balance)\n",
    "            print(f\"Account created successfully for {account_holder}.\")\n",
    "\n",
    "    def login(self, act_no):\n",
    "        if act_no in self.accounts:\n",
    "            return self.accounts[act_no]\n",
    "        else:\n",
    "            print(\"Account not found.\")\n",
    "            return None\n",
    "\n"
   ]
  },
  {
   "cell_type": "code",
   "execution_count": 22,
   "id": "9f709c02-9e70-4a1e-bebe-83398096d4c2",
   "metadata": {},
   "outputs": [
    {
     "name": "stdout",
     "output_type": "stream",
     "text": [
      "\n",
      "--- Banking System ---\n",
      "1. Create Account\n",
      "2. Login\n",
      "3. Exit\n"
     ]
    },
    {
     "name": "stdin",
     "output_type": "stream",
     "text": [
      "Select an option:  1\n",
      "Enter account number:  2345\n",
      "Enter account holder name:  Farisa\n",
      "Enter initial balance (default 0):  23000\n"
     ]
    },
    {
     "name": "stdout",
     "output_type": "stream",
     "text": [
      "Account created successfully for Farisa.\n",
      "\n",
      "--- Banking System ---\n",
      "1. Create Account\n",
      "2. Login\n",
      "3. Exit\n"
     ]
    },
    {
     "name": "stdin",
     "output_type": "stream",
     "text": [
      "Select an option:  2\n",
      "Enter account number:  2345\n"
     ]
    },
    {
     "name": "stdout",
     "output_type": "stream",
     "text": [
      "\n",
      "--- Account Menu ---\n",
      "1. Deposit Money\n",
      "2. Withdraw Money\n",
      "3. Check Balance\n",
      "4. Logout\n"
     ]
    },
    {
     "name": "stdin",
     "output_type": "stream",
     "text": [
      "Select an option:  1\n",
      "Enter amount to deposit:  3000\n"
     ]
    },
    {
     "name": "stdout",
     "output_type": "stream",
     "text": [
      "Successfully deposited $3000.0. New balance: $26000.0.\n",
      "\n",
      "--- Account Menu ---\n",
      "1. Deposit Money\n",
      "2. Withdraw Money\n",
      "3. Check Balance\n",
      "4. Logout\n"
     ]
    },
    {
     "name": "stdin",
     "output_type": "stream",
     "text": [
      "Select an option:  2\n",
      "Enter amount to withdraw:  6000\n"
     ]
    },
    {
     "name": "stdout",
     "output_type": "stream",
     "text": [
      "Successfully withdrew $6000.0. New balance: $20000.0.\n",
      "\n",
      "--- Account Menu ---\n",
      "1. Deposit Money\n",
      "2. Withdraw Money\n",
      "3. Check Balance\n",
      "4. Logout\n"
     ]
    },
    {
     "name": "stdin",
     "output_type": "stream",
     "text": [
      "Select an option:  3\n"
     ]
    },
    {
     "name": "stdout",
     "output_type": "stream",
     "text": [
      "Current balance: $20000.0.\n",
      "\n",
      "--- Account Menu ---\n",
      "1. Deposit Money\n",
      "2. Withdraw Money\n",
      "3. Check Balance\n",
      "4. Logout\n"
     ]
    },
    {
     "name": "stdin",
     "output_type": "stream",
     "text": [
      "Select an option:  4\n"
     ]
    },
    {
     "name": "stdout",
     "output_type": "stream",
     "text": [
      "Logging out.\n",
      "\n",
      "--- Banking System ---\n",
      "1. Create Account\n",
      "2. Login\n",
      "3. Exit\n"
     ]
    },
    {
     "name": "stdin",
     "output_type": "stream",
     "text": [
      "Select an option:  3\n"
     ]
    },
    {
     "name": "stdout",
     "output_type": "stream",
     "text": [
      "Exiting the banking system.\n"
     ]
    }
   ],
   "source": [
    "def main():\n",
    "    banking_system = BankingSystem()\n",
    "\n",
    "    while True:\n",
    "        print(\"\\n--- Banking System ---\")\n",
    "        print(\"1. Create Account\")\n",
    "        print(\"2. Login\")\n",
    "        print(\"3. Exit\")\n",
    "        choice = input(\"Select an option: \")\n",
    "\n",
    "        if choice == '1':\n",
    "            act_no = input(\"Enter account number: \")\n",
    "            account_holder = input(\"Enter account holder name: \")\n",
    "            initial_balance = float(input(\"Enter initial balance (default 0): \") or 0)\n",
    "            banking_system.create_account(act_no, account_holder, initial_balance)\n",
    "\n",
    "        elif choice == '2':\n",
    "            act_no = input(\"Enter account number: \")\n",
    "            account = banking_system.login(act_no)\n",
    "\n",
    "            if account:\n",
    "                while True:\n",
    "                    print(\"\\n--- Account Menu ---\")\n",
    "                    print(\"1. Deposit Money\")\n",
    "                    print(\"2. Withdraw Money\")\n",
    "                    print(\"3. Check Balance\")\n",
    "                    print(\"4. Logout\")\n",
    "                    account_choice = input(\"Select an option: \")\n",
    "\n",
    "                    if account_choice == '1':\n",
    "                        amount = float(input(\"Enter amount to deposit: \"))\n",
    "                        account.deposit(amount)\n",
    "\n",
    "                    elif account_choice == '2':\n",
    "                        amount = float(input(\"Enter amount to withdraw: \"))\n",
    "                        account.withdraw(amount)\n",
    "\n",
    "                    elif account_choice == '3':\n",
    "                        account.check_balance()\n",
    "\n",
    "                    elif account_choice == '4':\n",
    "                        print(\"Logging out.\")\n",
    "                        break\n",
    "\n",
    "                    else:\n",
    "                        print(\"Invalid option, please try again.\")\n",
    "\n",
    "        elif choice == '3':\n",
    "            print(\"Exiting the banking system.\")\n",
    "            break\n",
    "\n",
    "        else:\n",
    "            print(\"Invalid option, please try again.\")\n",
    "\n",
    "if __name__ == \"__main__\":\n",
    "    main()"
   ]
  },
  {
   "cell_type": "markdown",
   "id": "dde06bfa-fcde-448f-94b8-6c77cc96a5fc",
   "metadata": {},
   "source": [
    "---------------------------------------------------------------------------END---------------------------------------------------------"
   ]
  }
 ],
 "metadata": {
  "kernelspec": {
   "display_name": "Python 3 (ipykernel)",
   "language": "python",
   "name": "python3"
  },
  "language_info": {
   "codemirror_mode": {
    "name": "ipython",
    "version": 3
   },
   "file_extension": ".py",
   "mimetype": "text/x-python",
   "name": "python",
   "nbconvert_exporter": "python",
   "pygments_lexer": "ipython3",
   "version": "3.12.4"
  }
 },
 "nbformat": 4,
 "nbformat_minor": 5
}
